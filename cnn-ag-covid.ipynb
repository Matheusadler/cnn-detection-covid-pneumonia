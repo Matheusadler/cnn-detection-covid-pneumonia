{
 "cells": [
  {
   "cell_type": "code",
   "execution_count": 1,
   "metadata": {},
   "outputs": [],
   "source": [
    "import keras \n",
    "import numpy as np\n",
    "import seaborn as sns\n",
    "import matplotlib.pyplot as plt \n",
    "from sklearn.metrics import accuracy_score, precision_score, recall_score, f1_score, confusion_matrix"
   ]
  },
  {
   "cell_type": "code",
   "execution_count": 2,
   "metadata": {},
   "outputs": [],
   "source": [
    "train = np.load('train-ag.npy', allow_pickle=True)\n",
    "size = 50"
   ]
  },
  {
   "cell_type": "code",
   "execution_count": 3,
   "metadata": {},
   "outputs": [],
   "source": [
    "x_train = []\n",
    "y_train = []"
   ]
  },
  {
   "cell_type": "code",
   "execution_count": 4,
   "metadata": {},
   "outputs": [],
   "source": [
    "for i, j in train:\n",
    "  x_train.append(i)\n",
    "  y_train.append(j)"
   ]
  },
  {
   "cell_type": "code",
   "execution_count": 5,
   "metadata": {},
   "outputs": [],
   "source": [
    "del train"
   ]
  },
  {
   "cell_type": "code",
   "execution_count": 6,
   "metadata": {},
   "outputs": [],
   "source": [
    "x_train = np.array(x_train)\n",
    "x_train = x_train/255.0\n",
    "x_train = x_train.reshape(-1, size, size, 1)"
   ]
  },
  {
   "cell_type": "code",
   "execution_count": 7,
   "metadata": {},
   "outputs": [],
   "source": [
    "y_train = np.array(y_train)"
   ]
  },
  {
   "cell_type": "code",
   "execution_count": 8,
   "metadata": {},
   "outputs": [],
   "source": [
    "model = keras.Sequential()"
   ]
  },
  {
   "cell_type": "code",
   "execution_count": 9,
   "metadata": {},
   "outputs": [],
   "source": [
    "\n",
    "#Conv\n",
    "model.add(keras.layers.Conv2D(128, (3,3), activation='relu', input_shape=(size, size, 1)))\n",
    "\n",
    "#Pooling: Agrupamento. Reduz o mapa de features resultante\n",
    "model.add(keras.layers.MaxPool2D(2,2))\n",
    "\n",
    "#Conv\n",
    "model.add(keras.layers.Conv2D(64, (3,3), activation='relu'))\n",
    "\n",
    "#Pooling: Agrupamento. Reduz o mapa de features resultante\n",
    "model.add(keras.layers.MaxPool2D(2,2))\n",
    "\n",
    "#Conv\n",
    "model.add(keras.layers.Conv2D(32, (3,3), activation='relu'))\n",
    "\n",
    "#Pooling: Agrupamento. Reduz o mapa de features resultante\n",
    "model.add(keras.layers.MaxPool2D(2,2))\n",
    "\n",
    "\n",
    "#Flatten: Achatamento. Converte a estrutura 2D em 1D\n",
    "model.add(keras.layers.Flatten())\n",
    "\n",
    "#Fully Conected\n",
    "model.add(keras.layers.Dense(128, activation='relu'))\n",
    "model.add(keras.layers.Dense(64, activation='relu'))\n",
    "model.add(keras.layers.Dense(3, activation='softmax'))"
   ]
  },
  {
   "cell_type": "code",
   "execution_count": 10,
   "metadata": {},
   "outputs": [
    {
     "name": "stdout",
     "output_type": "stream",
     "text": [
      "Epoch 1/30\n",
      "WARNING:tensorflow:Early stopping conditioned on metric `val_loss` which is not available. Available metrics are: loss,accuracy\n",
      "32/32 - 4s - loss: 1.0543 - accuracy: 0.4004\n",
      "Epoch 2/30\n",
      "WARNING:tensorflow:Early stopping conditioned on metric `val_loss` which is not available. Available metrics are: loss,accuracy\n",
      "32/32 - 3s - loss: 0.9033 - accuracy: 0.4920\n",
      "Epoch 3/30\n",
      "WARNING:tensorflow:Early stopping conditioned on metric `val_loss` which is not available. Available metrics are: loss,accuracy\n",
      "32/32 - 3s - loss: 0.4601 - accuracy: 0.8287\n",
      "Epoch 4/30\n",
      "WARNING:tensorflow:Early stopping conditioned on metric `val_loss` which is not available. Available metrics are: loss,accuracy\n",
      "32/32 - 3s - loss: 0.3274 - accuracy: 0.8805\n",
      "Epoch 5/30\n",
      "WARNING:tensorflow:Early stopping conditioned on metric `val_loss` which is not available. Available metrics are: loss,accuracy\n",
      "32/32 - 3s - loss: 0.2601 - accuracy: 0.8944\n",
      "Epoch 6/30\n",
      "WARNING:tensorflow:Early stopping conditioned on metric `val_loss` which is not available. Available metrics are: loss,accuracy\n",
      "32/32 - 3s - loss: 0.1775 - accuracy: 0.9422\n",
      "Epoch 7/30\n",
      "WARNING:tensorflow:Early stopping conditioned on metric `val_loss` which is not available. Available metrics are: loss,accuracy\n",
      "32/32 - 3s - loss: 0.1980 - accuracy: 0.9343\n",
      "Epoch 8/30\n",
      "WARNING:tensorflow:Early stopping conditioned on metric `val_loss` which is not available. Available metrics are: loss,accuracy\n",
      "32/32 - 3s - loss: 0.1680 - accuracy: 0.9442\n",
      "Epoch 9/30\n",
      "WARNING:tensorflow:Early stopping conditioned on metric `val_loss` which is not available. Available metrics are: loss,accuracy\n",
      "32/32 - 3s - loss: 0.1167 - accuracy: 0.9582\n",
      "Epoch 10/30\n",
      "WARNING:tensorflow:Early stopping conditioned on metric `val_loss` which is not available. Available metrics are: loss,accuracy\n",
      "32/32 - 3s - loss: 0.0927 - accuracy: 0.9681\n",
      "Epoch 11/30\n",
      "WARNING:tensorflow:Early stopping conditioned on metric `val_loss` which is not available. Available metrics are: loss,accuracy\n",
      "32/32 - 3s - loss: 0.0664 - accuracy: 0.9821\n",
      "Epoch 12/30\n",
      "WARNING:tensorflow:Early stopping conditioned on metric `val_loss` which is not available. Available metrics are: loss,accuracy\n",
      "32/32 - 5s - loss: 0.0953 - accuracy: 0.9701\n",
      "Epoch 13/30\n",
      "WARNING:tensorflow:Early stopping conditioned on metric `val_loss` which is not available. Available metrics are: loss,accuracy\n",
      "32/32 - 6s - loss: 0.1116 - accuracy: 0.9522\n",
      "Epoch 14/30\n",
      "WARNING:tensorflow:Early stopping conditioned on metric `val_loss` which is not available. Available metrics are: loss,accuracy\n",
      "32/32 - 6s - loss: 0.0553 - accuracy: 0.9821\n",
      "Epoch 15/30\n",
      "WARNING:tensorflow:Early stopping conditioned on metric `val_loss` which is not available. Available metrics are: loss,accuracy\n",
      "32/32 - 5s - loss: 0.0506 - accuracy: 0.9880\n",
      "Epoch 16/30\n",
      "WARNING:tensorflow:Early stopping conditioned on metric `val_loss` which is not available. Available metrics are: loss,accuracy\n",
      "32/32 - 5s - loss: 0.0379 - accuracy: 0.9861\n",
      "Epoch 17/30\n",
      "WARNING:tensorflow:Early stopping conditioned on metric `val_loss` which is not available. Available metrics are: loss,accuracy\n",
      "32/32 - 6s - loss: 0.0291 - accuracy: 0.9900\n",
      "Epoch 18/30\n",
      "WARNING:tensorflow:Early stopping conditioned on metric `val_loss` which is not available. Available metrics are: loss,accuracy\n",
      "32/32 - 5s - loss: 0.0189 - accuracy: 0.9920\n",
      "Epoch 19/30\n",
      "WARNING:tensorflow:Early stopping conditioned on metric `val_loss` which is not available. Available metrics are: loss,accuracy\n",
      "32/32 - 5s - loss: 0.0242 - accuracy: 0.9920\n",
      "Epoch 20/30\n",
      "WARNING:tensorflow:Early stopping conditioned on metric `val_loss` which is not available. Available metrics are: loss,accuracy\n",
      "32/32 - 6s - loss: 0.0238 - accuracy: 0.9920\n",
      "Epoch 21/30\n",
      "WARNING:tensorflow:Early stopping conditioned on metric `val_loss` which is not available. Available metrics are: loss,accuracy\n",
      "32/32 - 6s - loss: 0.0112 - accuracy: 0.9980\n",
      "Epoch 22/30\n",
      "WARNING:tensorflow:Early stopping conditioned on metric `val_loss` which is not available. Available metrics are: loss,accuracy\n",
      "32/32 - 6s - loss: 0.0043 - accuracy: 1.0000\n",
      "Epoch 23/30\n",
      "WARNING:tensorflow:Early stopping conditioned on metric `val_loss` which is not available. Available metrics are: loss,accuracy\n",
      "32/32 - 5s - loss: 0.0071 - accuracy: 0.9960\n",
      "Epoch 24/30\n",
      "WARNING:tensorflow:Early stopping conditioned on metric `val_loss` which is not available. Available metrics are: loss,accuracy\n",
      "32/32 - 6s - loss: 0.0029 - accuracy: 1.0000\n",
      "Epoch 25/30\n",
      "WARNING:tensorflow:Early stopping conditioned on metric `val_loss` which is not available. Available metrics are: loss,accuracy\n",
      "32/32 - 6s - loss: 0.0020 - accuracy: 1.0000\n",
      "Epoch 26/30\n",
      "WARNING:tensorflow:Early stopping conditioned on metric `val_loss` which is not available. Available metrics are: loss,accuracy\n",
      "32/32 - 6s - loss: 0.0018 - accuracy: 1.0000\n",
      "Epoch 27/30\n",
      "WARNING:tensorflow:Early stopping conditioned on metric `val_loss` which is not available. Available metrics are: loss,accuracy\n",
      "32/32 - 5s - loss: 0.0019 - accuracy: 1.0000\n",
      "Epoch 28/30\n",
      "WARNING:tensorflow:Early stopping conditioned on metric `val_loss` which is not available. Available metrics are: loss,accuracy\n",
      "32/32 - 6s - loss: 0.0013 - accuracy: 1.0000\n",
      "Epoch 29/30\n",
      "WARNING:tensorflow:Early stopping conditioned on metric `val_loss` which is not available. Available metrics are: loss,accuracy\n",
      "32/32 - 6s - loss: 8.1987e-04 - accuracy: 1.0000\n",
      "Epoch 30/30\n",
      "WARNING:tensorflow:Early stopping conditioned on metric `val_loss` which is not available. Available metrics are: loss,accuracy\n",
      "32/32 - 5s - loss: 6.8146e-04 - accuracy: 1.0000\n"
     ]
    }
   ],
   "source": [
    "callback = keras.callbacks.EarlyStopping(patience=2)\n",
    "model.compile(loss='sparse_categorical_crossentropy', optimizer='adam', metrics=['accuracy'])\n",
    "history = model.fit(x_train, y_train, epochs=30, shuffle=True, verbose=2, batch_size=16, callbacks=[callback])"
   ]
  },
  {
   "cell_type": "code",
   "execution_count": 11,
   "metadata": {},
   "outputs": [],
   "source": [
    "test = np.load('test-ag.npy', allow_pickle=True)"
   ]
  },
  {
   "cell_type": "code",
   "execution_count": 12,
   "metadata": {},
   "outputs": [],
   "source": [
    "x_test = []\n",
    "y_test = []\n",
    "\n",
    "for i, j in test:\n",
    "  x_test.append(i)\n",
    "  y_test.append(j)\n",
    "\n",
    "x_test = np.array(x_test)\n",
    "x_test = x_test/255.0\n",
    "x_test = x_test.reshape(-1, size, size, 1)\n",
    "\n",
    "y_test = np.array(y_test)"
   ]
  },
  {
   "cell_type": "code",
   "execution_count": 13,
   "metadata": {},
   "outputs": [
    {
     "name": "stdout",
     "output_type": "stream",
     "text": [
      "WARNING:tensorflow:From <ipython-input-13-e832a0a16c0d>:1: Sequential.predict_classes (from tensorflow.python.keras.engine.sequential) is deprecated and will be removed after 2021-01-01.\n",
      "Instructions for updating:\n",
      "Please use instead:* `np.argmax(model.predict(x), axis=-1)`,   if your model does multi-class classification   (e.g. if it uses a `softmax` last-layer activation).* `(model.predict(x) > 0.5).astype(\"int32\")`,   if your model does binary classification   (e.g. if it uses a `sigmoid` last-layer activation).\n"
     ]
    },
    {
     "data": {
      "text/plain": [
       "array([0, 0, 0, 0, 0, 0, 0, 0, 0, 0, 0, 2, 0, 0, 0, 0, 0, 0, 0, 2, 0, 0,\n",
       "       0, 0, 0, 0, 0, 0, 0, 0, 0, 0, 0, 0, 0, 0, 0, 0, 0, 0, 0, 0, 0, 0,\n",
       "       2, 0, 0, 2, 0, 0, 0, 0, 0, 0, 0, 0, 0, 0, 0, 0, 0, 0, 0, 0, 0, 0,\n",
       "       0, 2, 0, 0, 0, 0, 2, 0, 0, 0, 0, 0, 0, 1, 0, 0, 0, 0, 0, 1, 1, 1,\n",
       "       1, 1, 1, 1, 1, 1, 1, 1, 1, 1, 1, 1, 1, 1, 1, 1, 1, 1, 1, 1, 1, 1,\n",
       "       1, 1, 1, 1, 1, 1, 1, 1, 1, 1, 1, 1, 1, 1, 1, 1, 1, 1, 1, 1, 1, 1,\n",
       "       1, 1, 1, 1, 1, 1, 1, 1, 1, 1, 1, 1, 1, 1, 1, 1, 1, 1, 1, 1, 1, 1,\n",
       "       1, 1, 1, 1, 1, 1, 1, 1, 1, 1, 1, 1, 1, 1, 1, 1, 1, 1, 1, 1, 1, 1,\n",
       "       1, 1, 1, 1, 1, 1, 1, 1, 1, 1, 1, 0, 2, 2, 2, 2, 2, 2, 2, 1, 0, 2,\n",
       "       2, 2, 2, 2, 2, 0, 0, 2, 2, 2, 2, 2, 2, 2, 2, 2, 2, 2, 0, 0, 2, 2,\n",
       "       2, 2, 1, 2, 2, 2, 2, 0, 2, 2, 2, 2, 2, 0, 2, 0, 2, 2, 0, 0, 0, 0,\n",
       "       2, 0, 2, 2, 2, 2, 2, 2, 1, 2, 0, 2, 2, 2, 2, 2, 0, 2, 2, 2, 2, 2,\n",
       "       2, 2, 2, 2, 2, 2, 2, 2], dtype=int64)"
      ]
     },
     "execution_count": 13,
     "metadata": {},
     "output_type": "execute_result"
    }
   ],
   "source": [
    "output_nn = model.predict_classes(x_test)\n",
    "output_nn"
   ]
  },
  {
   "cell_type": "code",
   "execution_count": 14,
   "metadata": {},
   "outputs": [
    {
     "name": "stdout",
     "output_type": "stream",
     "text": [
      "9/9 [==============================] - 1s 75ms/step - loss: 0.3902 - accuracy: 0.9044\n"
     ]
    }
   ],
   "source": [
    "teste = model.evaluate(x_test, y_test)"
   ]
  },
  {
   "cell_type": "code",
   "execution_count": 15,
   "metadata": {},
   "outputs": [
    {
     "data": {
      "text/plain": [
       "<AxesSubplot:>"
      ]
     },
     "execution_count": 15,
     "metadata": {},
     "output_type": "execute_result"
    },
    {
     "data": {
      "image/png": "[encoded data removed]",
      "text/plain": [
       "<Figure size 432x288 with 2 Axes>"
      ]
     },
     "metadata": {
      "needs_background": "light"
     },
     "output_type": "display_data"
    }
   ],
   "source": [
    "matriz_confusão = confusion_matrix(y_test, output_nn)\n",
    "#matriz_confusão\n",
    "sns.heatmap(matriz_confusão, annot=True, cmap='YlGnBu', fmt=\"d\")"
   ]
  },
  {
   "cell_type": "code",
   "execution_count": 16,
   "metadata": {},
   "outputs": [
    {
     "name": "stdout",
     "output_type": "stream",
     "text": [
      "\n",
      "Accuracy: 0.90\n",
      "\n"
     ]
    }
   ],
   "source": [
    "print('\\nAccuracy: {:.2f}\\n'.format(accuracy_score(y_test, output_nn)))"
   ]
  },
  {
   "cell_type": "code",
   "execution_count": 17,
   "metadata": {},
   "outputs": [
    {
     "name": "stdout",
     "output_type": "stream",
     "text": [
      "Macro Precision: 0.90\n",
      "Macro Recall: 0.90\n",
      "Macro F1-score: 0.90\n",
      "\n"
     ]
    }
   ],
   "source": [
    "print('Macro Precision: {:.2f}'.format(precision_score(y_test, output_nn, average='macro')))\n",
    "print('Macro Recall: {:.2f}'.format(recall_score(y_test, output_nn, average='macro')))\n",
    "print('Macro F1-score: {:.2f}\\n'.format(f1_score(y_test, output_nn, average='macro')))"
   ]
  },
  {
   "cell_type": "code",
   "execution_count": null,
   "metadata": {},
   "outputs": [],
   "source": []
  }
 ],
 "metadata": {
  "kernelspec": {
   "display_name": "Python 3",
   "language": "python",
   "name": "python3"
  },
  "language_info": {
   "codemirror_mode": {
    "name": "ipython",
    "version": 3
   },
   "file_extension": ".py",
   "mimetype": "text/x-python",
   "name": "python",
   "nbconvert_exporter": "python",
   "pygments_lexer": "ipython3",
   "version": "3.7.9"
  }
 },
 "nbformat": 4,
 "nbformat_minor": 4
}
